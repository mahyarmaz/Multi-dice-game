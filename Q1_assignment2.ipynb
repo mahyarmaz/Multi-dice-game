{
 "cells": [
  {
   "cell_type": "code",
   "execution_count": 26,
   "metadata": {
    "scrolled": true
   },
   "outputs": [
    {
     "name": "stdout",
     "output_type": "stream",
     "text": [
      "\n",
      "    There are 3 dices in total:\n",
      "    Dice1 = [1, 2, 3, 4, 5, 6, 7, 8],\n",
      "    Dice2 = [1, 2, 3, 4, 5, 6, 7, 8, 9, 10],\n",
      "    Dice3 = [0, 2, 4, 6, 8, 10]\n",
      "\n",
      "    with the probability of rolls as below:\n",
      "    \n"
     ]
    },
    {
     "data": {
      "image/png": "[encoded data removed]",
      "text/plain": [
       "<Figure size 432x288 with 1 Axes>"
      ]
     },
     "metadata": {
      "needs_background": "light"
     },
     "output_type": "display_data"
    }
   ],
   "source": [
    "#question 1, assignment number 2\n",
    "\n",
    "import random\n",
    "import matplotlib.pyplot as plt\n",
    "\n",
    "%matplotlib inline\n",
    "\n",
    "\n",
    "class DiceClass:  # defines a class of dices\n",
    "    _count = 0\n",
    "    def __init__(self, start, stop, step):\n",
    "        self.start = start\n",
    "        self.stop = stop\n",
    "        self.step = step\n",
    "        DiceClass._count += 1\n",
    "\n",
    "    def roll(self, nrolls):  # rolls the dice for specified number of times and returns a number from dice\n",
    "        _rolls = []\n",
    "        for _i in range(nrolls):\n",
    "            _rolls.append(random.randrange(self.start, self.stop+1, self.step))\n",
    "        return _rolls\n",
    "\n",
    "    def total_no():         # returns how many dices were created \n",
    "        return DiceClass._count\n",
    "\n",
    "    def side_list(self):    # returns a list of side numbers of the selected dice\n",
    "        _dice_list = []\n",
    "        for _i in range(self.start, self.stop + 1, self.step):\n",
    "            if _i not in _dice_list:\n",
    "                _dice_list.append(_i)\n",
    "        return _dice_list\n",
    "\n",
    "#define your dices here\n",
    "dice1 = DiceClass(1, 8, 1)\n",
    "dice2 = DiceClass(1, 10, 1)\n",
    "dice3 = DiceClass(0, 10, 2)\n",
    "\n",
    "\n",
    "\n",
    "frequency_total_rolls = []          # calculates the distribution of rolls \n",
    "for i in range(10000):\n",
    "    for j in range(1, 100):\n",
    "        sum_dices = sum(dice1.roll(j) + dice2.roll(j) + dice3.roll(j))\n",
    "        if sum_dices <= 200:\n",
    "            continue\n",
    "        else:\n",
    "            frequency_total_rolls.append(j)\n",
    "            break\n",
    "\n",
    "            \n",
    "print(f'''\n",
    "    There are {DiceClass.total_no()} dices in total:\n",
    "    Dice1 = {dice1.side_list()},\n",
    "    Dice2 = {dice2.side_list()},\n",
    "    Dice3 = {dice3.side_list()}\n",
    "\n",
    "    with the probability of rolls as below:\n",
    "    ''')\n",
    "\n",
    "#plotting the distribution\n",
    "y = frequency_total_rolls\n",
    "bins = 20\n",
    "plt.hist(y, bins=bins, density= True, color='b')\n",
    "plt.xlabel('Total Number of Rolls')\n",
    "plt.ylabel('Normalized Frequency')\n",
    "plt.show()"
   ]
  },
  {
   "cell_type": "code",
   "execution_count": null,
   "metadata": {},
   "outputs": [],
   "source": []
  }
 ],
 "metadata": {
  "kernelspec": {
   "display_name": "Python 3",
   "language": "python",
   "name": "python3"
  },
  "language_info": {
   "codemirror_mode": {
    "name": "ipython",
    "version": 3
   },
   "file_extension": ".py",
   "mimetype": "text/x-python",
   "name": "python",
   "nbconvert_exporter": "python",
   "pygments_lexer": "ipython3",
   "version": "3.7.3"
  }
 },
 "nbformat": 4,
 "nbformat_minor": 2
}
